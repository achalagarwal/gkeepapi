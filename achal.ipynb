{
 "nbformat": 4,
 "nbformat_minor": 2,
 "metadata": {
  "language_info": {
   "name": "python",
   "codemirror_mode": {
    "name": "ipython",
    "version": 3
   },
   "version": "3.6.9-final"
  },
  "orig_nbformat": 2,
  "file_extension": ".py",
  "mimetype": "text/x-python",
  "name": "python",
  "npconvert_exporter": "python",
  "pygments_lexer": "ipython3",
  "version": 3,
  "kernelspec": {
   "name": "python36964bitgkeepvenve87b6ac9aa714f36bec18d5562f6adce",
   "display_name": "Python 3.6.9 64-bit ('gkeep': venv)"
  }
 },
 "cells": [
  {
   "cell_type": "code",
   "execution_count": 2,
   "metadata": {},
   "outputs": [],
   "source": [
    "import gkeepapi\n",
    "from pprint import pprint as print\n",
    "keep = gkeepapi.Keep()\n",
    "success = keep.login('achalagarwal.01@gmail.com', 'kvlatubhkxhlldsi')"
   ]
  },
  {
   "cell_type": "code",
   "execution_count": 72,
   "metadata": {},
   "outputs": [],
   "source": [
    "import subprocess\n",
    "import re\n",
    "from logging import Logger"
   ]
  },
  {
   "cell_type": "code",
   "execution_count": 4,
   "metadata": {},
   "outputs": [],
   "source": [
    "# proc = subprocess.Popen(['task', 'add', 'test_child' ], stderr=subprocess.PIPE, stdout=subprocess.PIPE)\n",
    "# stdout_value = proc.communicate()\n",
    "# print('\\tstdout:' + str(stdout_value))"
   ]
  },
  {
   "cell_type": "code",
   "execution_count": 5,
   "metadata": {},
   "outputs": [],
   "source": [
    "#string = stdout_value[0].decode('ascii')"
   ]
  },
  {
   "cell_type": "code",
   "execution_count": 6,
   "metadata": {},
   "outputs": [],
   "source": [
    "#re.findall(r'\\d+', string )"
   ]
  },
  {
   "cell_type": "code",
   "execution_count": 7,
   "metadata": {},
   "outputs": [],
   "source": [
    "# proc = subprocess.Popen(['task', '23', 'delete' ], stderr=subprocess.PIPE, stdout=subprocess.PIPE, stdin=subprocess.PIPE)\n",
    "# # proc.stdin()\n",
    "# yes = bytes('yes \\n', 'ascii')\n",
    "# stdout_value = proc.communicate(yes)\n",
    "# # stdout_value = proc.communicate(b'all \\n')\n",
    "# print('\\tstdout:' + str(stdout_value))"
   ]
  },
  {
   "cell_type": "code",
   "execution_count": 8,
   "metadata": {},
   "outputs": [],
   "source": [
    "# string = stdout_value[0].decode('ascii')"
   ]
  },
  {
   "cell_type": "code",
   "execution_count": 9,
   "metadata": {},
   "outputs": [],
   "source": [
    "# re.findall(r'Deleted [1-9]+ task.', string) "
   ]
  },
  {
   "cell_type": "code",
   "execution_count": 10,
   "metadata": {},
   "outputs": [],
   "source": [
    "def add_to_taskwarrior(task, parent=None, project='Google Keep'):\n",
    "\n",
    "    # add task in taskwarrior\n",
    "    proc = subprocess.Popen(['task', 'add', task['text'] ], stderr=subprocess.PIPE, stdout=subprocess.PIPE)\n",
    "    stdout_value = proc.communicate()\n",
    "\n",
    "    # extract taskwarrior id from stdout\n",
    "    string = stdout_value[0].decode('ascii')\n",
    "    task_id = re.findall(r'\\d+', string )[0]\n",
    "    task['task_id'] = task_id\n",
    "\n",
    "    # now we annotate the google keep task id\n",
    "    subprocess.Popen(['task', task['task_id'], 'annotate', task['keep_id']]).communicate()\n",
    "\n",
    "    # add as a dependent to parent\n",
    "    if parent:\n",
    "        proc = subprocess.Popen(['task', parent, 'modify', 'depends:'+task['task_id'] ], stderr=subprocess.PIPE, stdout=subprocess.PIPE, stdin=subprocess.PIPE)\n",
    "        stdout_value = proc.communicate()\n",
    "\n",
    "    # iterate for all children\n",
    "    for child in task['children']:\n",
    "        add_to_taskwarrior(child, parent=task['task_id'], project=project)\n",
    ""
   ]
  },
  {
   "cell_type": "code",
   "execution_count": 11,
   "metadata": {},
   "outputs": [],
   "source": [
    "def delete_from_taskwarrior(tasks):\n",
    "\n",
    "    # create arguments depending on whether tasks is a single number or a list of numbers\n",
    "    # TODO Should we enforce string input here?\n",
    "    task_string, confirm_string, count = (','.join([str(task) for task in tasks]), 'all \\n', len(tasks)) if hasattr(tasks, '__iter__') else (str(tasks), 'yes \\n', 1)\n",
    "\n",
    "    # delete tasks from taskwarrior\n",
    "    proc = subprocess.Popen(['task', task_string, 'delete' ], stderr=subprocess.PIPE, stdout=subprocess.PIPE, stdin=subprocess.PIPE)\n",
    "\n",
    "    # confirm deletion of all tasks provided\n",
    "    stdout_value = proc.communicate(bytes(confirm_string, 'ascii'))\n",
    "    string = stdout_value[0].decode('ascii')\n",
    "    return True if re.findall(rf'Deleted {count}+ task.', string) else False\n",
    "        \n",
    ""
   ]
  },
  {
   "cell_type": "code",
   "execution_count": 12,
   "metadata": {},
   "outputs": [],
   "source": [
    "# proc = subprocess.Popen(['task', '25', 'modify', 'depends:26' ], stderr=subprocess.PIPE, stdout=subprocess.PIPE, stdin=subprocess.PIPE)\n",
    "# # proc.stdin()\n",
    "# stdout_value = proc.communicate()\n",
    "\n",
    "# # stdout_value = proc.communicate(b'yes \\n')\n",
    "\n",
    "# print('\\tstdout:' + str(stdout_value))"
   ]
  },
  {
   "cell_type": "code",
   "execution_count": 13,
   "metadata": {},
   "outputs": [],
   "source": [
    "def has_attr_value(obj, attr='', val=''):\n",
    "    return getattr(obj, attr) == val"
   ]
  },
  {
   "cell_type": "code",
   "execution_count": 44,
   "metadata": {},
   "outputs": [],
   "source": [
    "notes = keep.all()"
   ]
  },
  {
   "cell_type": "code",
   "execution_count": 45,
   "metadata": {},
   "outputs": [],
   "source": [
    "filtered_notes = list(filter(lambda x: has_attr_value(x, 'pinned', True), notes))"
   ]
  },
  {
   "cell_type": "code",
   "execution_count": 46,
   "metadata": {},
   "outputs": [
    {
     "output_type": "execute_result",
     "data": {
      "text/plain": "[<gkeepapi.node.List at 0x7fe3f96a72e8>,\n <gkeepapi.node.List at 0x7fe3f9133dd8>,\n <gkeepapi.node.List at 0x7fe3f8f19080>,\n <gkeepapi.node.List at 0x7fe3f8f19518>,\n <gkeepapi.node.List at 0x7fe3f8f19dd8>,\n <gkeepapi.node.List at 0x7fe3f9577f28>,\n <gkeepapi.node.List at 0x7fe3f92ca390>,\n <gkeepapi.node.Note at 0x7fe3f92caf60>,\n <gkeepapi.node.Note at 0x7fe3eee51f60>,\n <gkeepapi.node.Note at 0x7fe3eee51cc0>,\n <gkeepapi.node.Note at 0x7fe3eee51ef0>,\n <gkeepapi.node.Note at 0x7fe3eee515c0>,\n <gkeepapi.node.Note at 0x7fe3f83a0f60>,\n <gkeepapi.node.Note at 0x7fe3f83a05f8>,\n <gkeepapi.node.Note at 0x7fe3f83a0f28>,\n <gkeepapi.node.Note at 0x7fe3f95ce208>,\n <gkeepapi.node.Note at 0x7fe3f83a0240>,\n <gkeepapi.node.Note at 0x7fe3f838d8d0>,\n <gkeepapi.node.Note at 0x7fe3f838d550>,\n <gkeepapi.node.Note at 0x7fe3f838d588>,\n <gkeepapi.node.Note at 0x7fe3f838dcf8>,\n <gkeepapi.node.Note at 0x7fe3f838d1d0>,\n <gkeepapi.node.Note at 0x7fe3f838da90>,\n <gkeepapi.node.Note at 0x7fe3f838d748>,\n <gkeepapi.node.Note at 0x7fe3f838d6a0>,\n <gkeepapi.node.Note at 0x7fe3f838df28>,\n <gkeepapi.node.Note at 0x7fe3fa750240>,\n <gkeepapi.node.Note at 0x7fe3fa7501d0>,\n <gkeepapi.node.Note at 0x7fe3f974d748>,\n <gkeepapi.node.Note at 0x7fe3f921f198>,\n <gkeepapi.node.Note at 0x7fe3f921f1d0>,\n <gkeepapi.node.Note at 0x7fe3f94eac18>,\n <gkeepapi.node.Note at 0x7fe3f94ea400>,\n <gkeepapi.node.Note at 0x7fe3f94ea828>,\n <gkeepapi.node.Note at 0x7fe3f94ea278>]"
     },
     "metadata": {},
     "execution_count": 46
    }
   ],
   "source": [
    "filtered_notes"
   ]
  },
  {
   "cell_type": "code",
   "execution_count": 47,
   "metadata": {},
   "outputs": [],
   "source": [
    "filtered_notes = list(filter(lambda x: x.title, filtered_notes))"
   ]
  },
  {
   "cell_type": "code",
   "execution_count": 48,
   "metadata": {},
   "outputs": [
    {
     "output_type": "execute_result",
     "data": {
      "text/plain": "[<gkeepapi.node.List at 0x7fe3f96a72e8>,\n <gkeepapi.node.List at 0x7fe3f9133dd8>,\n <gkeepapi.node.List at 0x7fe3f8f19080>,\n <gkeepapi.node.List at 0x7fe3f8f19518>,\n <gkeepapi.node.List at 0x7fe3f8f19dd8>,\n <gkeepapi.node.List at 0x7fe3f9577f28>,\n <gkeepapi.node.List at 0x7fe3f92ca390>]"
     },
     "metadata": {},
     "execution_count": 48
    }
   ],
   "source": [
    "filtered_notes"
   ]
  },
  {
   "cell_type": "code",
   "execution_count": 77,
   "metadata": {},
   "outputs": [
    {
     "output_type": "stream",
     "name": "stdout",
     "text": "'16889e295a0.a03e63d51aa58e19Significant + Urgent'\n'16889e3e4c7.938359362aa74d01Significant'\n'16889e48842.80bf82edf6e55e71Urgent'\n'1510551568605.2096093560Today'\n'1702b89474c.a5e79116461ef293Shopping List'\n'1584490858625.2086780820Not Significant + Not Urgent'\n'1582912357250.1423760568Memory Bank for Reflect + Recollect'\n"
    }
   ],
   "source": [
    "for note in filtered_notes:\n",
    "    print(note.id + note.title)"
   ]
  },
  {
   "cell_type": "code",
   "execution_count": 51,
   "metadata": {},
   "outputs": [],
   "source": [
    "note = list(filter(\n",
    "    lambda x: has_attr_value(x, 'title', 'Significant + Urgent'), \n",
    "    notes))[0]\n",
    "items = note.items"
   ]
  },
  {
   "cell_type": "code",
   "execution_count": 52,
   "metadata": {},
   "outputs": [],
   "source": [
    "# print(dir(items[0]))"
   ]
  },
  {
   "cell_type": "code",
   "execution_count": 16,
   "metadata": {},
   "outputs": [],
   "source": [
    "# remove tasks which are already completed\n",
    "filtered_items = list(filter(lambda x: has_attr_value(x, 'checked', False), items))"
   ]
  },
  {
   "cell_type": "code",
   "execution_count": 17,
   "metadata": {},
   "outputs": [],
   "source": [
    "# remove tasks which are children of some other task\n",
    "filtered_items = list(filter(lambda x: has_attr_value(x, 'parent_item', None ), filtered_items))"
   ]
  },
  {
   "cell_type": "code",
   "execution_count": 18,
   "metadata": {},
   "outputs": [],
   "source": [
    "filtered_tasks = [{'text': x.text, 'keep_id':x.id, 'children': x._subitems, 'created':x.timestamps._created} for x in filtered_items]"
   ]
  },
  {
   "cell_type": "code",
   "execution_count": 19,
   "metadata": {},
   "outputs": [],
   "source": [
    "# filtered_tasks"
   ]
  },
  {
   "cell_type": "code",
   "execution_count": 20,
   "metadata": {},
   "outputs": [],
   "source": [
    "for item in filtered_tasks:\n",
    "    children = item.get('children').values()\n",
    "    item['children'] = list(map(lambda x: {'text': x.text, 'keep_id': x.id, 'children':[], 'created': x.timestamps._created},filter(lambda x: has_attr_value(x, 'checked', False), children)))"
   ]
  },
  {
   "cell_type": "code",
   "execution_count": 21,
   "metadata": {},
   "outputs": [
    {
     "output_type": "execute_result",
     "data": {
      "text/plain": "{'text': 'Read your algorithm, read other algorithms',\n 'keep_id': '1584344571475.1329806704',\n 'children': [],\n 'created': datetime.datetime(2020, 3, 16, 7, 42, 52, 54000)}"
     },
     "metadata": {},
     "execution_count": 21
    }
   ],
   "source": [
    "filtered_tasks[0]"
   ]
  },
  {
   "cell_type": "code",
   "execution_count": 22,
   "metadata": {},
   "outputs": [
    {
     "output_type": "execute_result",
     "data": {
      "text/plain": "{'_dirty': False,\n '_created': datetime.datetime(2020, 3, 16, 7, 42, 52, 54000),\n '_deleted': None,\n '_trashed': None,\n '_updated': datetime.datetime(2020, 3, 16, 7, 42, 52, 54000),\n '_edited': None}"
     },
     "metadata": {},
     "execution_count": 22
    }
   ],
   "source": [
    "filtered_items[0].timestamps.__dict__"
   ]
  },
  {
   "cell_type": "code",
   "execution_count": 23,
   "metadata": {},
   "outputs": [
    {
     "output_type": "execute_result",
     "data": {
      "text/plain": "{'_dirty': False,\n 'parent': <gkeepapi.node.List at 0x7fe3fb3d36d8>,\n 'id': '16889e8da53.ad0f7e575ef82686',\n 'server_id': '1-r3n6Fx_SlMaR81xk-VaRnTrOi_cqS3FkoB-SJAhBcb5n8eiG1GtcYxHO3K7lHUH_IUA',\n 'parent_id': '16889e295a0.a03e63d51aa58e19',\n 'type': <NodeType.ListItem: 'LIST_ITEM'>,\n '_sort': '-389267117550330',\n '_version': '2',\n '_text': 'Job',\n '_children': {},\n 'timestamps': <gkeepapi.node.NodeTimestamps at 0x7fe3fab55048>,\n 'settings': <gkeepapi.node.NodeSettings at 0x7fe3fab55080>,\n 'annotations': <gkeepapi.node.NodeAnnotations at 0x7fe3fab550b8>,\n '_moved': False,\n 'parent_item': None,\n 'parent_server_id': None,\n 'super_list_item_id': None,\n 'prev_super_list_item_id': None,\n '_subitems': {'1581546468253.1438110809': <gkeepapi.node.ListItem at 0x7fe3fab48b70>,\n  '1581546474520.1165161214': <gkeepapi.node.ListItem at 0x7fe3fab48c50>},\n '_checked': False}"
     },
     "metadata": {},
     "execution_count": 23
    }
   ],
   "source": [
    "filtered_items[4].__dict__"
   ]
  },
  {
   "cell_type": "code",
   "execution_count": 24,
   "metadata": {},
   "outputs": [],
   "source": [
    "# so we have the tasks!\n",
    "# now we have to exec the task add command get the task id, use that to link children!"
   ]
  },
  {
   "cell_type": "code",
   "execution_count": 25,
   "metadata": {},
   "outputs": [],
   "source": [
    "# for loop\n",
    "# add task_warrior id in dict\n",
    "# need to get that by parsing the subprocess.PIPE.etc"
   ]
  },
  {
   "cell_type": "code",
   "execution_count": 26,
   "metadata": {},
   "outputs": [
    {
     "output_type": "stream",
     "name": "stdout",
     "text": "{'children': [],\n 'created': datetime.datetime(2020, 3, 16, 7, 42, 52, 54000),\n 'keep_id': '1584344571475.1329806704',\n 'text': 'Read your algorithm, read other algorithms'}\n{'children': [],\n 'created': datetime.datetime(2020, 3, 13, 23, 13, 50, 109000),\n 'keep_id': '1584141228696.1680011852',\n 'text': 'Mail '}\n{'children': [],\n 'created': datetime.datetime(2020, 3, 17, 6, 37, 53, 873000),\n 'keep_id': '1584427066200.2085338598',\n 'text': 'inThe.am + streak --> zapier? what else?'}\n{'children': [{'children': [],\n               'created': datetime.datetime(2020, 2, 27, 8, 13, 47, 267000),\n               'keep_id': '1582791225563.1845751236',\n               'text': 'Callbacks and review of what you wrote previously'},\n              {'children': [],\n               'created': datetime.datetime(2020, 2, 27, 8, 14, 8, 440000),\n               'keep_id': '1582791246559.2029377938',\n               'text': 'An easier way to move through the form (as sometimes I '\n                       'remember something and want to edit a question)'},\n              {'children': [],\n               'created': datetime.datetime(2020, 2, 27, 8, 14, 15, 926000),\n               'keep_id': '1582791255237.525269653',\n               'text': 'explore plugins'},\n              {'children': [],\n               'created': datetime.datetime(2020, 2, 27, 8, 14, 23, 435000),\n               'keep_id': '1582791260979.631286974',\n               'text': 'french incorporation'},\n              {'children': [],\n               'created': datetime.datetime(2020, 3, 6, 7, 0, 15, 542000),\n               'keep_id': '1583478012525.429055703',\n               'text': 'Phrase questions such that all positive is written in '\n                       'the present tense '},\n              {'children': [],\n               'created': datetime.datetime(2020, 3, 12, 16, 14, 43, 945000),\n               'keep_id': '1584029683239.321144737',\n               'text': 'check box for oiled hair,  '},\n              {'children': [],\n               'created': datetime.datetime(2020, 3, 13, 8, 0, 2, 226000),\n               'keep_id': '1584086401829.1088803441',\n               'text': 'what other things would you like to track '\n                       'statistically? I am generating data here, high quality '\n                       'data, mention your recreation, mention what you '\n                       'studied, etc mention these few things in the '\n                       'description box. in bath section, '},\n              {'children': [],\n               'created': datetime.datetime(2020, 3, 14, 19, 48, 0, 172000),\n               'keep_id': '1584215279513.547576840',\n               'text': 'learnings are supposed to be actionable things for the '\n                       'future you, for any time, not evergreen, sometime'},\n              {'children': [],\n               'created': datetime.datetime(2020, 3, 18, 0, 47, 58, 285000),\n               'keep_id': '1584492477811.1938852419',\n               'text': 'add a did you do any of these today (for the google '\n                       'keep mantras) if so how? did you disobey any of these '\n                       'today?'},\n              {'children': [],\n               'created': datetime.datetime(2020, 2, 29, 18, 33, 11, 998000),\n               'keep_id': '17092114fa6.8b21b31d5838cf83',\n               'text': \"Ask if it's for today or yesterday and change the \"\n                       'questions to past tense accordingly'},\n              {'children': [],\n               'created': datetime.datetime(2020, 2, 29, 18, 33, 11, 998000),\n               'keep_id': '170921d5bd8.9dcbfca4cffb95ed',\n               'text': \"I need to make sure that I'm listing exactly my day \"\n                       'issues. For example with worries, I tend to keep '\n                       \"listing all the worries even if I didn't have the \"\n                       \"worry. Which means that I'm doing justice to the \"\n                       'form'}],\n 'created': datetime.datetime(2020, 3, 7, 1, 47, 42, 261000),\n 'keep_id': '170b2abcb55.a64cca6983f69347',\n 'text': 'Update google form for reflections'}\n{'children': [{'children': [],\n               'created': datetime.datetime(2020, 2, 12, 22, 27, 58, 669000),\n               'keep_id': '1581546474520.1165161214',\n               'text': 'List openings'}],\n 'created': datetime.datetime(2020, 2, 12, 22, 26, 45, 384000),\n 'keep_id': '16889e8da53.ad0f7e575ef82686',\n 'text': 'Job'}\n"
    }
   ],
   "source": [
    "for task in filtered_tasks:\n",
    "    print(task)"
   ]
  },
  {
   "cell_type": "code",
   "execution_count": 96,
   "metadata": {},
   "outputs": [
    {
     "output_type": "execute_result",
     "data": {
      "text/plain": "[{'kind': 'notes#node',\n  'id': '16889e3e4c7.938359362aa74d01',\n  'serverId': '18CJsniDTG2S2Q5dX-3L-nvzfRAr8wtTpS40WSe0KiwTbKZjj7ffrggb2A5QiDXRiluIL',\n  'parentId': 'root',\n  'type': 'LIST',\n  'timestamps': {'kind': 'notes#timestamps',\n   'created': '2019-01-26T11:20:54.981Z',\n   'updated': '2020-03-21T06:21:05.265Z',\n   'trashed': '1970-01-01T00:00:00.000Z',\n   'userEdited': '2020-03-21T06:21:04.777Z',\n   'recentSharedChangesSeen': '2020-03-20T23:34:19.206Z'},\n  'title': 'Significant',\n  'nodeSettings': {'newListItemPlacement': 'BOTTOM',\n   'checkedListItemsPolicy': 'GRAVEYARD',\n   'graveyardState': 'COLLAPSED'},\n  'isArchived': False,\n  'isPinned': True,\n  'color': 'CERULEAN',\n  'sortValue': '3122659328',\n  'annotationsGroup': {'kind': 'notes#annotationsGroup'},\n  'lastModifierEmail': 'achalagarwal.01@gmail.com',\n  'moved': '1'},\n {'kind': 'notes#node',\n  'id': '1699a15f5ff.8be52ddb7a476385',\n  'serverId': '1dQZOBmCTJIir4_6m133Foj4NGQ2m4kARxm1_kBKV9XMb2oSNKu4lZXPlqsUBhK0ZE5w0',\n  'parentId': '16889e3e4c7.938359362aa74d01',\n  'parentServerId': '18CJsniDTG2S2Q5dX-3L-nvzfRAr8wtTpS40WSe0KiwTbKZjj7ffrggb2A5QiDXRiluIL',\n  'type': 'LIST_ITEM',\n  'timestamps': {'kind': 'notes#timestamps',\n   'created': '2019-03-20T07:52:23.145Z',\n   'updated': '2020-03-21T06:21:04.777Z'},\n  'text': 'Waiver for 212e - home residency',\n  'checked': False,\n  'baseVersion': '6',\n  'nodeSettings': {'newListItemPlacement': 'BOTTOM',\n   'checkedListItemsPolicy': 'GRAVEYARD',\n   'graveyardState': 'EXPANDED'},\n  'sortValue': '1032718433071015',\n  'annotationsGroup': {'kind': 'notes#annotationsGroup'}},\n {'kind': 'notes#node',\n  'id': '1699a16064b.bfa5a9d91558231d',\n  'serverId': '1uKgSP0KyXCkEfDknaA5swR5Opm4NoOlnpGjq8K1tS8ytUhxwQh1ZwJHpk6C5ER7fZ1T2',\n  'parentId': '16889e3e4c7.938359362aa74d01',\n  'parentServerId': '18CJsniDTG2S2Q5dX-3L-nvzfRAr8wtTpS40WSe0KiwTbKZjj7ffrggb2A5QiDXRiluIL',\n  'type': 'LIST_ITEM',\n  'timestamps': {'kind': 'notes#timestamps',\n   'created': '2019-03-20T07:52:23.145Z',\n   'updated': '2020-03-20T23:34:16.418Z'},\n  'text': 'Two page research resume',\n  'checked': True,\n  'baseVersion': '1',\n  'nodeSettings': {'newListItemPlacement': 'BOTTOM',\n   'checkedListItemsPolicy': 'GRAVEYARD',\n   'graveyardState': 'EXPANDED'},\n  'sortValue': '295503679253624',\n  'annotationsGroup': {'kind': 'notes#annotationsGroup'}}]"
     },
     "metadata": {},
     "execution_count": 96
    }
   ],
   "source": [
    "keep._keep_api.changes(keep._keep_version)['nodes']"
   ]
  },
  {
   "cell_type": "code",
   "execution_count": 32,
   "metadata": {},
   "outputs": [],
   "source": [
    "keep.sync(True)"
   ]
  },
  {
   "cell_type": "code",
   "execution_count": 56,
   "metadata": {},
   "outputs": [],
   "source": [
    "# "
   ]
  },
  {
   "cell_type": "code",
   "execution_count": 69,
   "metadata": {},
   "outputs": [],
   "source": [
    "# now I need to perform incremental updates on my taskwarrior entries\n",
    "# so for that I need to be able to extract task id from annotations!\n",
    "\n",
    "# the incremental updates are limited to checked/unchecked and/or adding children, because they lead to changes in parents, however will it be tricky to get parents and children updates when we need the task id?\n",
    "\n",
    "# i dont know this right now because of obvious reasons\n",
    "# firstly i dont know in what form the incremental updates arrive \n",
    "# if they are of the form, a child has been added, heres the new child, \n",
    "# dont have to use a dictionary for efficiency right now as we have enough compute power\n",
    "\n",
    "\n",
    "\n",
    "\n",
    ""
   ]
  },
  {
   "cell_type": "code",
   "execution_count": null,
   "metadata": {},
   "outputs": [],
   "source": [
    "def perform_incremental_update(nodes, current):\n",
    "    # nodes are the latest updates that have been fetched from the api\n",
    "    # current is the current set of filtered tasks\n",
    "    # "
   ]
  },
  {
   "cell_type": "code",
   "execution_count": null,
   "metadata": {},
   "outputs": [],
   "source": []
  }
 ]
}