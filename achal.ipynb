{
 "nbformat": 4,
 "nbformat_minor": 2,
 "metadata": {
  "language_info": {
   "name": "python",
   "codemirror_mode": {
    "name": "ipython",
    "version": 3
   },
   "version": "3.6.9-final"
  },
  "orig_nbformat": 2,
  "file_extension": ".py",
  "mimetype": "text/x-python",
  "name": "python",
  "npconvert_exporter": "python",
  "pygments_lexer": "ipython3",
  "version": 3,
  "kernelspec": {
   "name": "python36964bitgkeepvenve87b6ac9aa714f36bec18d5562f6adce",
   "display_name": "Python 3.6.9 64-bit ('gkeep': venv)"
  }
 },
 "cells": [
  {
   "cell_type": "code",
   "execution_count": 1,
   "metadata": {},
   "outputs": [],
   "source": [
    "import gkeepapi\n",
    "from gkeepapi import has_attr_value, get_task_id, convert_to_task, add_to_taskwarrior,  update_in_taskwarrior\n",
    "from pprint import pprint as print\n",
    "keep = gkeepapi.Keep()\n",
    "success = keep.login('achalagarwal.01@gmail.com', 'kvlatubhkxhlldsi')"
   ]
  },
  {
   "cell_type": "code",
   "execution_count": 2,
   "metadata": {},
   "outputs": [],
   "source": [
    "import subprocess\n",
    "import re\n",
    "from logging import Logger"
   ]
  },
  {
   "cell_type": "code",
   "execution_count": 133,
   "metadata": {},
   "outputs": [],
   "source": [
    "# proc = subprocess.Popen(['task', 'add', 'test_child' ], stderr=subprocess.PIPE, stdout=subprocess.PIPE)\n",
    "# stdout_value = proc.communicate()\n",
    "# print('\\tstdout:' + str(stdout_value))"
   ]
  },
  {
   "cell_type": "code",
   "execution_count": 134,
   "metadata": {},
   "outputs": [],
   "source": [
    "#string = stdout_value[0].decode('ascii')"
   ]
  },
  {
   "cell_type": "code",
   "execution_count": 135,
   "metadata": {},
   "outputs": [],
   "source": [
    "#re.findall(r'\\d+', string )"
   ]
  },
  {
   "cell_type": "code",
   "execution_count": 136,
   "metadata": {},
   "outputs": [],
   "source": [
    "# proc = subprocess.Popen(['task', '23', 'delete' ], stderr=subprocess.PIPE, stdout=subprocess.PIPE, stdin=subprocess.PIPE)\n",
    "# # proc.stdin()\n",
    "# yes = bytes('yes \\n', 'ascii')\n",
    "# stdout_value = proc.communicate(yes)\n",
    "# # stdout_value = proc.communicate(b'all \\n')\n",
    "# print('\\tstdout:' + str(stdout_value))"
   ]
  },
  {
   "cell_type": "code",
   "execution_count": 127,
   "metadata": {},
   "outputs": [],
   "source": [
    "# string = stdout_value[0].decode('ascii')"
   ]
  },
  {
   "cell_type": "code",
   "execution_count": 128,
   "metadata": {},
   "outputs": [],
   "source": [
    "# re.findall(r'Deleted [1-9]+ task.', string) "
   ]
  },
  {
   "cell_type": "code",
   "execution_count": 129,
   "metadata": {},
   "outputs": [],
   "source": [
    "def convert_to_task(node):\n",
    "\n",
    "    # create base structure\n",
    "    task = {'text': node.text,\n",
    "            'keep_id':node.id,\n",
    "            'children': node._subitems,\n",
    "            'created':node.timestamps._created,\n",
    "            \n",
    "            # only records parents for sublist items\n",
    "            # as a guide, this should be None anytime its parent is irrelevant to Task Warrior\n",
    "\n",
    "            'parent': node.parent_id if type(node.parent_item) is gkeepapi._node.ListItem else None\n",
    "            }\n",
    "    \n",
    "    # populate with children\n",
    "    task['children'] = list(map(\n",
    "                            lambda x: convert_to_task(x), \n",
    "                            filter(lambda x: has_attr_value(x, 'checked', False),\n",
    "                            task.get('children', []).values())))\n",
    "\n",
    "    return task\n",
    ""
   ]
  },
  {
   "cell_type": "code",
   "execution_count": 130,
   "metadata": {},
   "outputs": [],
   "source": [
    "def add_to_taskwarrior(task, parent=None, project='Google Keep'):\n",
    "\n",
    "    # add task in taskwarrior\n",
    "    proc = subprocess.Popen(['task', 'add', task['text'] ], stderr=subprocess.PIPE, stdout=subprocess.PIPE)\n",
    "    stdout_value = proc.communicate()\n",
    "\n",
    "    # extract taskwarrior id from stdout\n",
    "    string = stdout_value[0].decode('ascii')\n",
    "    task_id = re.findall(r'\\d+', string )[0]\n",
    "    task['task_id'] = task_id\n",
    "\n",
    "    # now we annotate the google keep task id\n",
    "    subprocess.Popen(['task', task['task_id'], 'annotate', task['keep_id']]).communicate()\n",
    "\n",
    "    # add as a dependent to parent\n",
    "    if parent:\n",
    "        proc = subprocess.Popen(['task', parent, 'modify', 'depends:'+task['task_id'] ], stderr=subprocess.PIPE, stdout=subprocess.PIPE, stdin=subprocess.PIPE)\n",
    "        stdout_value = proc.communicate()\n",
    "\n",
    "    # iterate for all children\n",
    "    for child in task['children']:\n",
    "        add_to_taskwarrior(child, parent=task['task_id'], project=project)\n",
    ""
   ]
  },
  {
   "cell_type": "code",
   "execution_count": 2,
   "metadata": {},
   "outputs": [],
   "source": [
    "def delete_from_taskwarrior(tasks):\n",
    "\n",
    "    if not tasks:\n",
    "        return True\n",
    "    # create arguments depending on whether tasks is a single number or a list of numbers\n",
    "    # TODO Should we enforce string input here?\n",
    "    task_string, confirm_string, count = (','.join([str(task) if task else '' for task in tasks]), 'all \\n', len(tasks)) if hasattr(tasks, '__iter__') else (str(tasks), 'yes \\n', 1)\n",
    "\n",
    "    # delete tasks from taskwarrior\n",
    "    proc = subprocess.Popen(['task', task_string, 'delete' ], stderr=subprocess.PIPE, stdout=subprocess.PIPE, stdin=subprocess.PIPE)\n",
    "\n",
    "    # confirm deletion of all tasks provided\n",
    "    stdout_value = proc.communicate(bytes(confirm_string, 'ascii'))\n",
    "    string = stdout_value[0].decode('ascii')\n",
    "    return True if re.findall(rf'Deleted {count}+ task.', string) else False\n",
    "        \n",
    ""
   ]
  },
  {
   "cell_type": "code",
   "execution_count": 5,
   "metadata": {},
   "outputs": [
    {
     "output_type": "execute_result",
     "data": {
      "text/plain": "False"
     },
     "metadata": {},
     "execution_count": 5
    }
   ],
   "source": [
    "delete_from_taskwarrior(list(range(23,150)))"
   ]
  },
  {
   "cell_type": "code",
   "execution_count": 11,
   "metadata": {},
   "outputs": [],
   "source": [
    "# proc = subprocess.Popen(['task', '25', 'modify', 'depends:26' ], stderr=subprocess.PIPE, stdout=subprocess.PIPE, stdin=subprocess.PIPE)\n",
    "# # proc.stdin()\n",
    "# stdout_value = proc.communicate()\n",
    "\n",
    "# # stdout_value = proc.communicate(b'yes \\n')\n",
    "\n",
    "# print('\\tstdout:' + str(stdout_value))"
   ]
  },
  {
   "cell_type": "code",
   "execution_count": 12,
   "metadata": {},
   "outputs": [],
   "source": [
    "def has_attr_value(obj, attr='', val=''):\n",
    "    return getattr(obj, attr) == val"
   ]
  },
  {
   "cell_type": "code",
   "execution_count": 3,
   "metadata": {},
   "outputs": [],
   "source": [
    "notes = keep.all()"
   ]
  },
  {
   "cell_type": "code",
   "execution_count": 4,
   "metadata": {},
   "outputs": [],
   "source": [
    "filtered_notes = list(filter(lambda x: has_attr_value(x, 'pinned', True), notes))"
   ]
  },
  {
   "cell_type": "code",
   "execution_count": 5,
   "metadata": {},
   "outputs": [
    {
     "output_type": "execute_result",
     "data": {
      "text/plain": "[<gkeepapi.node.List at 0x7f80ec08f6d8>,\n <gkeepapi.node.List at 0x7f80ec08f978>,\n <gkeepapi.node.List at 0x7f80ec08fa90>,\n <gkeepapi.node.List at 0x7f80ec08fbe0>,\n <gkeepapi.node.List at 0x7f80ec08ff28>,\n <gkeepapi.node.List at 0x7f80ec08fda0>,\n <gkeepapi.node.List at 0x7f80ec07c908>,\n <gkeepapi.node.Note at 0x7f80ec07c0b8>,\n <gkeepapi.node.Note at 0x7f80ec07ce48>,\n <gkeepapi.node.Note at 0x7f80ec07c550>,\n <gkeepapi.node.Note at 0x7f80ec07ccc0>,\n <gkeepapi.node.Note at 0x7f80ec0e8668>,\n <gkeepapi.node.Note at 0x7f80ec0e87f0>,\n <gkeepapi.node.Note at 0x7f80ec0520f0>,\n <gkeepapi.node.Note at 0x7f80ec0522e8>,\n <gkeepapi.node.Note at 0x7f80ec052550>,\n <gkeepapi.node.Note at 0x7f80ec052470>,\n <gkeepapi.node.Note at 0x7f80ec0527b8>,\n <gkeepapi.node.Note at 0x7f80ec0526d8>,\n <gkeepapi.node.Note at 0x7f80ec0527f0>,\n <gkeepapi.node.Note at 0x7f80d6076b70>,\n <gkeepapi.node.Note at 0x7f80d6076cf8>,\n <gkeepapi.node.Note at 0x7f80d6076e48>,\n <gkeepapi.node.Note at 0x7f80d6076f98>,\n <gkeepapi.node.Note at 0x7f80ec0ad2e8>,\n <gkeepapi.node.Note at 0x7f80ec0ad198>,\n <gkeepapi.node.Note at 0x7f80ec0ad588>,\n <gkeepapi.node.Note at 0x7f80ec0ad6d8>,\n <gkeepapi.node.Note at 0x7f80ec0ad3c8>,\n <gkeepapi.node.Note at 0x7f80ec0ad7b8>,\n <gkeepapi.node.Note at 0x7f80ec0ad908>,\n <gkeepapi.node.Note at 0x7f80ec0ada58>,\n <gkeepapi.node.Note at 0x7f80ec0add68>,\n <gkeepapi.node.Note at 0x7f80ec0adc18>,\n <gkeepapi.node.Note at 0x7f80ec0adfd0>]"
     },
     "metadata": {},
     "execution_count": 5
    }
   ],
   "source": [
    "filtered_notes"
   ]
  },
  {
   "cell_type": "code",
   "execution_count": 6,
   "metadata": {},
   "outputs": [],
   "source": [
    "filtered_notes = list(filter(lambda x: x.title, filtered_notes))"
   ]
  },
  {
   "cell_type": "code",
   "execution_count": 7,
   "metadata": {},
   "outputs": [
    {
     "output_type": "execute_result",
     "data": {
      "text/plain": "[<gkeepapi.node.List at 0x7fc7d4037160>,\n <gkeepapi.node.List at 0x7fc7d4037240>,\n <gkeepapi.node.List at 0x7fc7d40372e8>,\n <gkeepapi.node.List at 0x7fc7d4037518>,\n <gkeepapi.node.List at 0x7fc7d4037748>,\n <gkeepapi.node.List at 0x7fc7d40376d8>,\n <gkeepapi.node.List at 0x7fc7d40379b0>]"
     },
     "metadata": {},
     "execution_count": 7
    }
   ],
   "source": [
    "filtered_notes"
   ]
  },
  {
   "cell_type": "code",
   "execution_count": 8,
   "metadata": {},
   "outputs": [
    {
     "output_type": "stream",
     "name": "stdout",
     "text": "'16889e295a0.a03e63d51aa58e19Significant + Urgent'\n'16889e3e4c7.938359362aa74d01Significant'\n'16889e48842.80bf82edf6e55e71Urgent'\n'1510551568605.2096093560Today'\n'1702b89474c.a5e79116461ef293Shopping List'\n'1584490858625.2086780820Not Significant + Not Urgent'\n'1582912357250.1423760568Memory Bank for Reflect + Recollect'\n"
    }
   ],
   "source": [
    "for note in filtered_notes:\n",
    "    print(note.id + note.title)"
   ]
  },
  {
   "cell_type": "code",
   "execution_count": 9,
   "metadata": {},
   "outputs": [],
   "source": [
    "note = list(filter(\n",
    "    lambda x: has_attr_value(x, 'title', 'Significant + Urgent'), \n",
    "    notes))[0]\n",
    "items = note.items"
   ]
  },
  {
   "cell_type": "code",
   "execution_count": 10,
   "metadata": {},
   "outputs": [],
   "source": [
    "# print(dir(items[0]))"
   ]
  },
  {
   "cell_type": "code",
   "execution_count": 11,
   "metadata": {},
   "outputs": [
    {
     "output_type": "execute_result",
     "data": {
      "text/plain": "{'_dirty': False,\n 'parent': <gkeepapi.node.List at 0x7fed5eba1710>,\n 'id': '1584141206679.1825644213',\n 'server_id': '17DU3uvReMk63f5RROxYcq87hmniHwo7FnsRkUPhIhfWX1bEGFb3NjMQAMNoX2NI',\n 'parent_id': '16889e295a0.a03e63d51aa58e19',\n 'type': <NodeType.ListItem: 'LIST_ITEM'>,\n '_sort': '692355879230853',\n '_version': '1',\n '_text': 'Check drafts',\n '_children': {},\n 'timestamps': <gkeepapi.node.NodeTimestamps at 0x7fed5e2c2e80>,\n 'settings': <gkeepapi.node.NodeSettings at 0x7fed5e2c2eb8>,\n 'annotations': <gkeepapi.node.NodeAnnotations at 0x7fed5e2c2ef0>,\n '_moved': False,\n 'parent_item': <gkeepapi.node.ListItem at 0x7fed5df8b4a8>,\n 'parent_server_id': None,\n 'super_list_item_id': '16feb45ae35.ab86dba36e485297',\n 'prev_super_list_item_id': None,\n '_subitems': {},\n '_checked': True}"
     },
     "metadata": {},
     "execution_count": 11
    }
   ],
   "source": [
    "# if parent has pinned and is :)\n",
    "# .__dict__\n",
    "list(items[12]._subitems.values())[1].__dict__"
   ]
  },
  {
   "cell_type": "code",
   "execution_count": 11,
   "metadata": {},
   "outputs": [],
   "source": [
    "# remove tasks which are already completed\n",
    "filtered_items = list(filter(lambda x: has_attr_value(x, 'checked', False), items))"
   ]
  },
  {
   "cell_type": "code",
   "execution_count": 12,
   "metadata": {},
   "outputs": [
    {
     "output_type": "execute_result",
     "data": {
      "text/plain": "['Read your algorithm, read other algorithms',\n 'set deadlines',\n 'I know what I want to do, I want to be able to ask myself what type of work I want to do and then go ahead and get the \"next\" best task to do!, task warrior really helps with that and this is why I want the task warrior integration! ',\n 'Update google form for reflections',\n 'Callbacks and review of what you wrote previously \\n- 3 to 5 day goals can be shown to the person\\n- list of tasks that were meant to be completed could be shown?',\n 'what other things would you like to track statistically? I am generating data here, high quality data, mention your recreation, mention what you studied, etc mention these few things in the description box. in bath section, ',\n 'affirmation should be something that I should chant while meditation, extract that out from sheets and send it as a notification/email',\n 'clean mantras',\n 'when to not eat what makes more sense than when to eat what, you want to minimize stomach upsets and ensure optimal nutrition intake']"
     },
     "metadata": {},
     "execution_count": 12
    }
   ],
   "source": [
    "[item.text for item in filtered_items]"
   ]
  },
  {
   "cell_type": "code",
   "execution_count": 13,
   "metadata": {},
   "outputs": [
    {
     "output_type": "execute_result",
     "data": {
      "text/plain": "[<gkeepapi.node.ListItem at 0x7fc7d402f2e8>,\n <gkeepapi.node.ListItem at 0x7fc7d402f748>,\n <gkeepapi.node.ListItem at 0x7fc7d402f128>,\n <gkeepapi.node.ListItem at 0x7fc7c40ab048>,\n <gkeepapi.node.ListItem at 0x7fc7d4027668>,\n <gkeepapi.node.ListItem at 0x7fc7d4027e48>,\n <gkeepapi.node.ListItem at 0x7fc7d402f588>,\n <gkeepapi.node.ListItem at 0x7fc7d402f668>,\n <gkeepapi.node.ListItem at 0x7fc7d402f828>]"
     },
     "metadata": {},
     "execution_count": 13
    }
   ],
   "source": [
    "filtered_items"
   ]
  },
  {
   "cell_type": "code",
   "execution_count": 14,
   "metadata": {},
   "outputs": [],
   "source": [
    "# remove tasks which are children of some other task\n",
    "filtered_items = list(filter(lambda x: has_attr_value(x, 'parent_item', None ), filtered_items))"
   ]
  },
  {
   "cell_type": "code",
   "execution_count": null,
   "metadata": {},
   "outputs": [],
   "source": []
  },
  {
   "cell_type": "code",
   "execution_count": 15,
   "metadata": {
    "tags": [
     "outputPrepend",
     "outputPrepend"
    ]
   },
   "outputs": [
    {
     "output_type": "stream",
     "name": "stderr",
     "text": "ial(callback, future))\n  File \"/home/achal/.python_environments/gkeep/lib/python3.6/site-packages/tornado/ioloop.py\", line 743, in _run_callback\n    ret = callback()\n  File \"/home/achal/.python_environments/gkeep/lib/python3.6/site-packages/tornado/gen.py\", line 787, in inner\n    self.run()\n  File \"/home/achal/.python_environments/gkeep/lib/python3.6/site-packages/tornado/gen.py\", line 748, in run\n    yielded = self.gen.send(value)\n  File \"/home/achal/.python_environments/gkeep/lib/python3.6/site-packages/ipykernel/kernelbase.py\", line 361, in process_one\n    yield gen.maybe_future(dispatch(*args))\n  File \"/home/achal/.python_environments/gkeep/lib/python3.6/site-packages/tornado/gen.py\", line 209, in wrapper\n    yielded = next(result)\n  File \"/home/achal/.python_environments/gkeep/lib/python3.6/site-packages/ipykernel/kernelbase.py\", line 268, in dispatch_shell\n    yield gen.maybe_future(handler(stream, idents, msg))\n  File \"/home/achal/.python_environments/gkeep/lib/python3.6/site-packages/tornado/gen.py\", line 209, in wrapper\n    yielded = next(result)\n  File \"/home/achal/.python_environments/gkeep/lib/python3.6/site-packages/ipykernel/kernelbase.py\", line 541, in execute_request\n    user_expressions, allow_stdin,\n  File \"/home/achal/.python_environments/gkeep/lib/python3.6/site-packages/tornado/gen.py\", line 209, in wrapper\n    yielded = next(result)\n  File \"/home/achal/.python_environments/gkeep/lib/python3.6/site-packages/ipykernel/ipkernel.py\", line 300, in do_execute\n    res = shell.run_cell(code, store_history=store_history, silent=silent)\n  File \"/home/achal/.python_environments/gkeep/lib/python3.6/site-packages/ipykernel/zmqshell.py\", line 536, in run_cell\n    return super(ZMQInteractiveShell, self).run_cell(*args, **kwargs)\n  File \"/home/achal/.python_environments/gkeep/lib/python3.6/site-packages/IPython/core/interactiveshell.py\", line 2858, in run_cell\n    raw_cell, store_history, silent, shell_futures)\n  File \"/home/achal/.python_environments/gkeep/lib/python3.6/site-packages/IPython/core/interactiveshell.py\", line 2886, in _run_cell\n    return runner(coro)\n  File \"/home/achal/.python_environments/gkeep/lib/python3.6/site-packages/IPython/core/async_helpers.py\", line 68, in _pseudo_sync_runner\n    coro.send(None)\n  File \"/home/achal/.python_environments/gkeep/lib/python3.6/site-packages/IPython/core/interactiveshell.py\", line 3063, in run_cell_async\n    interactivity=interactivity, compiler=compiler, result=result)\n  File \"/home/achal/.python_environments/gkeep/lib/python3.6/site-packages/IPython/core/interactiveshell.py\", line 3254, in run_ast_nodes\n    if (await self.run_code(code, result,  async_=asy)):\n  File \"/home/achal/.python_environments/gkeep/lib/python3.6/site-packages/IPython/core/interactiveshell.py\", line 3331, in run_code\n    exec(code_obj, self.user_global_ns, self.user_ns)\n  File \"<ipython-input-15-22f4da97fdbd>\", line 2, in <module>\n    add_to_taskwarrior(item)\n  File \"/home/achal/utils/gkeepapi/gkeepapi/__init__.py\", line 114, in add_to_taskwarrior\n    if exists_in_task(node):\n  File \"/home/achal/utils/gkeepapi/gkeepapi/__init__.py\", line 93, in exists_in_task\n    return not (get_task_id(node.id) == None)\n  File \"/home/achal/utils/gkeepapi/gkeepapi/__init__.py\", line 36, in get_task_id\n    logging.info(\"Getting temporary task id for keep id {}\", keep_id)\nMessage: 'Getting temporary task id for keep id {}'\nArguments: ('1585036900533.483632588',)\n--- Logging error ---\nTraceback (most recent call last):\n  File \"/usr/lib/python3.6/logging/__init__.py\", line 994, in emit\n    msg = self.format(record)\n  File \"/usr/lib/python3.6/logging/__init__.py\", line 840, in format\n    return fmt.format(record)\n  File \"/usr/lib/python3.6/logging/__init__.py\", line 577, in format\n    record.message = record.getMessage()\n  File \"/usr/lib/python3.6/logging/__init__.py\", line 338, in getMessage\n    msg = msg % self.args\nTypeError: not all arguments converted during string formatting\nCall stack:\n  File \"/usr/lib/python3.6/runpy.py\", line 193, in _run_module_as_main\n    \"__main__\", mod_spec)\n  File \"/usr/lib/python3.6/runpy.py\", line 85, in _run_code\n    exec(code, run_globals)\n  File \"/home/achal/.python_environments/gkeep/lib/python3.6/site-packages/ipykernel_launcher.py\", line 16, in <module>\n    app.launch_new_instance()\n  File \"/home/achal/.python_environments/gkeep/lib/python3.6/site-packages/traitlets/config/application.py\", line 664, in launch_instance\n    app.start()\n  File \"/home/achal/.python_environments/gkeep/lib/python3.6/site-packages/ipykernel/kernelapp.py\", line 583, in start\n    self.io_loop.start()\n  File \"/home/achal/.python_environments/gkeep/lib/python3.6/site-packages/tornado/platform/asyncio.py\", line 149, in start\n    self.asyncio_loop.run_forever()\n  File \"/usr/lib/python3.6/asyncio/base_events.py\", line 438, in run_forever\n    self._run_once()\n  File \"/usr/lib/python3.6/asyncio/base_events.py\", line 1451, in _run_once\n    handle._run()\n  File \"/usr/lib/python3.6/asyncio/events.py\", line 145, in _run\n    self._callback(*self._args)\n  File \"/home/achal/.python_environments/gkeep/lib/python3.6/site-packages/tornado/ioloop.py\", line 690, in <lambda>\n    lambda f: self._run_callback(functools.partial(callback, future))\n  File \"/home/achal/.python_environments/gkeep/lib/python3.6/site-packages/tornado/ioloop.py\", line 743, in _run_callback\n    ret = callback()\n  File \"/home/achal/.python_environments/gkeep/lib/python3.6/site-packages/tornado/gen.py\", line 787, in inner\n    self.run()\n  File \"/home/achal/.python_environments/gkeep/lib/python3.6/site-packages/tornado/gen.py\", line 748, in run\n    yielded = self.gen.send(value)\n  File \"/home/achal/.python_environments/gkeep/lib/python3.6/site-packages/ipykernel/kernelbase.py\", line 361, in process_one\n    yield gen.maybe_future(dispatch(*args))\n  File \"/home/achal/.python_environments/gkeep/lib/python3.6/site-packages/tornado/gen.py\", line 209, in wrapper\n    yielded = next(result)\n  File \"/home/achal/.python_environments/gkeep/lib/python3.6/site-packages/ipykernel/kernelbase.py\", line 268, in dispatch_shell\n    yield gen.maybe_future(handler(stream, idents, msg))\n  File \"/home/achal/.python_environments/gkeep/lib/python3.6/site-packages/tornado/gen.py\", line 209, in wrapper\n    yielded = next(result)\n  File \"/home/achal/.python_environments/gkeep/lib/python3.6/site-packages/ipykernel/kernelbase.py\", line 541, in execute_request\n    user_expressions, allow_stdin,\n  File \"/home/achal/.python_environments/gkeep/lib/python3.6/site-packages/tornado/gen.py\", line 209, in wrapper\n    yielded = next(result)\n  File \"/home/achal/.python_environments/gkeep/lib/python3.6/site-packages/ipykernel/ipkernel.py\", line 300, in do_execute\n    res = shell.run_cell(code, store_history=store_history, silent=silent)\n  File \"/home/achal/.python_environments/gkeep/lib/python3.6/site-packages/ipykernel/zmqshell.py\", line 536, in run_cell\n    return super(ZMQInteractiveShell, self).run_cell(*args, **kwargs)\n  File \"/home/achal/.python_environments/gkeep/lib/python3.6/site-packages/IPython/core/interactiveshell.py\", line 2858, in run_cell\n    raw_cell, store_history, silent, shell_futures)\n  File \"/home/achal/.python_environments/gkeep/lib/python3.6/site-packages/IPython/core/interactiveshell.py\", line 2886, in _run_cell\n    return runner(coro)\n  File \"/home/achal/.python_environments/gkeep/lib/python3.6/site-packages/IPython/core/async_helpers.py\", line 68, in _pseudo_sync_runner\n    coro.send(None)\n  File \"/home/achal/.python_environments/gkeep/lib/python3.6/site-packages/IPython/core/interactiveshell.py\", line 3063, in run_cell_async\n    interactivity=interactivity, compiler=compiler, result=result)\n  File \"/home/achal/.python_environments/gkeep/lib/python3.6/site-packages/IPython/core/interactiveshell.py\", line 3254, in run_ast_nodes\n    if (await self.run_code(code, result,  async_=asy)):\n  File \"/home/achal/.python_environments/gkeep/lib/python3.6/site-packages/IPython/core/interactiveshell.py\", line 3331, in run_code\n    exec(code_obj, self.user_global_ns, self.user_ns)\n  File \"<ipython-input-15-22f4da97fdbd>\", line 2, in <module>\n    add_to_taskwarrior(item)\n  File \"/home/achal/utils/gkeepapi/gkeepapi/__init__.py\", line 114, in add_to_taskwarrior\n    if exists_in_task(node):\n  File \"/home/achal/utils/gkeepapi/gkeepapi/__init__.py\", line 93, in exists_in_task\n    return not (get_task_id(node.id) == None)\n  File \"/home/achal/utils/gkeepapi/gkeepapi/__init__.py\", line 46, in get_task_id\n    logging.info(\"Task id: {}\", temp_task_id)\nMessage: 'Task id: {}'\nArguments: (None,)\n--- Logging error ---\nTraceback (most recent call last):\n  File \"/usr/lib/python3.6/logging/__init__.py\", line 994, in emit\n    msg = self.format(record)\n  File \"/usr/lib/python3.6/logging/__init__.py\", line 840, in format\n    return fmt.format(record)\n  File \"/usr/lib/python3.6/logging/__init__.py\", line 577, in format\n    record.message = record.getMessage()\n  File \"/usr/lib/python3.6/logging/__init__.py\", line 338, in getMessage\n    msg = msg % self.args\nTypeError: not all arguments converted during string formatting\nCall stack:\n  File \"/usr/lib/python3.6/runpy.py\", line 193, in _run_module_as_main\n    \"__main__\", mod_spec)\n  File \"/usr/lib/python3.6/runpy.py\", line 85, in _run_code\n    exec(code, run_globals)\n  File \"/home/achal/.python_environments/gkeep/lib/python3.6/site-packages/ipykernel_launcher.py\", line 16, in <module>\n    app.launch_new_instance()\n  File \"/home/achal/.python_environments/gkeep/lib/python3.6/site-packages/traitlets/config/application.py\", line 664, in launch_instance\n    app.start()\n  File \"/home/achal/.python_environments/gkeep/lib/python3.6/site-packages/ipykernel/kernelapp.py\", line 583, in start\n    self.io_loop.start()\n  File \"/home/achal/.python_environments/gkeep/lib/python3.6/site-packages/tornado/platform/asyncio.py\", line 149, in start\n    self.asyncio_loop.run_forever()\n  File \"/usr/lib/python3.6/asyncio/base_events.py\", line 438, in run_forever\n    self._run_once()\n  File \"/usr/lib/python3.6/asyncio/base_events.py\", line 1451, in _run_once\n    handle._run()\n  File \"/usr/lib/python3.6/asyncio/events.py\", line 145, in _run\n    self._callback(*self._args)\n  File \"/home/achal/.python_environments/gkeep/lib/python3.6/site-packages/tornado/ioloop.py\", line 690, in <lambda>\n    lambda f: self._run_callback(functools.partial(callback, future))\n  File \"/home/achal/.python_environments/gkeep/lib/python3.6/site-packages/tornado/ioloop.py\", line 743, in _run_callback\n    ret = callback()\n  File \"/home/achal/.python_environments/gkeep/lib/python3.6/site-packages/tornado/gen.py\", line 787, in inner\n    self.run()\n  File \"/home/achal/.python_environments/gkeep/lib/python3.6/site-packages/tornado/gen.py\", line 748, in run\n    yielded = self.gen.send(value)\n  File \"/home/achal/.python_environments/gkeep/lib/python3.6/site-packages/ipykernel/kernelbase.py\", line 361, in process_one\n    yield gen.maybe_future(dispatch(*args))\n  File \"/home/achal/.python_environments/gkeep/lib/python3.6/site-packages/tornado/gen.py\", line 209, in wrapper\n    yielded = next(result)\n  File \"/home/achal/.python_environments/gkeep/lib/python3.6/site-packages/ipykernel/kernelbase.py\", line 268, in dispatch_shell\n    yield gen.maybe_future(handler(stream, idents, msg))\n  File \"/home/achal/.python_environments/gkeep/lib/python3.6/site-packages/tornado/gen.py\", line 209, in wrapper\n    yielded = next(result)\n  File \"/home/achal/.python_environments/gkeep/lib/python3.6/site-packages/ipykernel/kernelbase.py\", line 541, in execute_request\n    user_expressions, allow_stdin,\n  File \"/home/achal/.python_environments/gkeep/lib/python3.6/site-packages/tornado/gen.py\", line 209, in wrapper\n    yielded = next(result)\n  File \"/home/achal/.python_environments/gkeep/lib/python3.6/site-packages/ipykernel/ipkernel.py\", line 300, in do_execute\n    res = shell.run_cell(code, store_history=store_history, silent=silent)\n  File \"/home/achal/.python_environments/gkeep/lib/python3.6/site-packages/ipykernel/zmqshell.py\", line 536, in run_cell\n    return super(ZMQInteractiveShell, self).run_cell(*args, **kwargs)\n  File \"/home/achal/.python_environments/gkeep/lib/python3.6/site-packages/IPython/core/interactiveshell.py\", line 2858, in run_cell\n    raw_cell, store_history, silent, shell_futures)\n  File \"/home/achal/.python_environments/gkeep/lib/python3.6/site-packages/IPython/core/interactiveshell.py\", line 2886, in _run_cell\n    return runner(coro)\n  File \"/home/achal/.python_environments/gkeep/lib/python3.6/site-packages/IPython/core/async_helpers.py\", line 68, in _pseudo_sync_runner\n    coro.send(None)\n  File \"/home/achal/.python_environments/gkeep/lib/python3.6/site-packages/IPython/core/interactiveshell.py\", line 3063, in run_cell_async\n    interactivity=interactivity, compiler=compiler, result=result)\n  File \"/home/achal/.python_environments/gkeep/lib/python3.6/site-packages/IPython/core/interactiveshell.py\", line 3254, in run_ast_nodes\n    if (await self.run_code(code, result,  async_=asy)):\n  File \"/home/achal/.python_environments/gkeep/lib/python3.6/site-packages/IPython/core/interactiveshell.py\", line 3331, in run_code\n    exec(code_obj, self.user_global_ns, self.user_ns)\n  File \"<ipython-input-15-22f4da97fdbd>\", line 2, in <module>\n    add_to_taskwarrior(item)\n  File \"/home/achal/utils/gkeepapi/gkeepapi/__init__.py\", line 118, in add_to_taskwarrior\n    task = convert_to_task(node)\n  File \"/home/achal/utils/gkeepapi/gkeepapi/__init__.py\", line 56, in convert_to_task\n    logging.info(\"Creating task and node for {} with attrs {}\", str(node), str(node.__dict__))\nMessage: 'Creating task and node for {} with attrs {}'\nArguments: ('☐ when to not eat what makes more sense than when to eat what, you want to minimize stomach upsets and ensure optimal nutrition intake', \"{'_dirty': False, 'parent': <gkeepapi.node.List object at 0x7fc7d4037160>, 'id': '1585036900533.483632588', 'server_id': '1XRa_fCBShHweAL4_TM3zjdfvT5Qv9GhOzkI9OLmpgUgjsiYneIThQESzWHlBDQ', 'parent_id': '16889e295a0.a03e63d51aa58e19', 'type': <NodeType.ListItem: 'LIST_ITEM'>, '_sort': '-1125899905794048', '_version': '13', '_text': 'when to not eat what makes more sense than when to eat what, you want to minimize stomach upsets and ensure optimal nutrition intake', '_children': {}, 'timestamps': <gkeepapi.node.NodeTimestamps object at 0x7fc7d402f860>, 'settings': <gkeepapi.node.NodeSettings object at 0x7fc7d402f898>, 'annotations': <gkeepapi.node.NodeAnnotations object at 0x7fc7d402f8d0>, '_moved': False, 'parent_item': None, 'parent_server_id': None, 'super_list_item_id': None, 'prev_super_list_item_id': None, '_subitems': {}, '_checked': False}\")\n--- Logging error ---\nTraceback (most recent call last):\n  File \"/usr/lib/python3.6/logging/__init__.py\", line 994, in emit\n    msg = self.format(record)\n  File \"/usr/lib/python3.6/logging/__init__.py\", line 840, in format\n    return fmt.format(record)\n  File \"/usr/lib/python3.6/logging/__init__.py\", line 577, in format\n    record.message = record.getMessage()\n  File \"/usr/lib/python3.6/logging/__init__.py\", line 338, in getMessage\n    msg = msg % self.args\nTypeError: not all arguments converted during string formatting\nCall stack:\n  File \"/usr/lib/python3.6/runpy.py\", line 193, in _run_module_as_main\n    \"__main__\", mod_spec)\n  File \"/usr/lib/python3.6/runpy.py\", line 85, in _run_code\n    exec(code, run_globals)\n  File \"/home/achal/.python_environments/gkeep/lib/python3.6/site-packages/ipykernel_launcher.py\", line 16, in <module>\n    app.launch_new_instance()\n  File \"/home/achal/.python_environments/gkeep/lib/python3.6/site-packages/traitlets/config/application.py\", line 664, in launch_instance\n    app.start()\n  File \"/home/achal/.python_environments/gkeep/lib/python3.6/site-packages/ipykernel/kernelapp.py\", line 583, in start\n    self.io_loop.start()\n  File \"/home/achal/.python_environments/gkeep/lib/python3.6/site-packages/tornado/platform/asyncio.py\", line 149, in start\n    self.asyncio_loop.run_forever()\n  File \"/usr/lib/python3.6/asyncio/base_events.py\", line 438, in run_forever\n    self._run_once()\n  File \"/usr/lib/python3.6/asyncio/base_events.py\", line 1451, in _run_once\n    handle._run()\n  File \"/usr/lib/python3.6/asyncio/events.py\", line 145, in _run\n    self._callback(*self._args)\n  File \"/home/achal/.python_environments/gkeep/lib/python3.6/site-packages/tornado/ioloop.py\", line 690, in <lambda>\n    lambda f: self._run_callback(functools.partial(callback, future))\n  File \"/home/achal/.python_environments/gkeep/lib/python3.6/site-packages/tornado/ioloop.py\", line 743, in _run_callback\n    ret = callback()\n  File \"/home/achal/.python_environments/gkeep/lib/python3.6/site-packages/tornado/gen.py\", line 787, in inner\n    self.run()\n  File \"/home/achal/.python_environments/gkeep/lib/python3.6/site-packages/tornado/gen.py\", line 748, in run\n    yielded = self.gen.send(value)\n  File \"/home/achal/.python_environments/gkeep/lib/python3.6/site-packages/ipykernel/kernelbase.py\", line 361, in process_one\n    yield gen.maybe_future(dispatch(*args))\n  File \"/home/achal/.python_environments/gkeep/lib/python3.6/site-packages/tornado/gen.py\", line 209, in wrapper\n    yielded = next(result)\n  File \"/home/achal/.python_environments/gkeep/lib/python3.6/site-packages/ipykernel/kernelbase.py\", line 268, in dispatch_shell\n    yield gen.maybe_future(handler(stream, idents, msg))\n  File \"/home/achal/.python_environments/gkeep/lib/python3.6/site-packages/tornado/gen.py\", line 209, in wrapper\n    yielded = next(result)\n  File \"/home/achal/.python_environments/gkeep/lib/python3.6/site-packages/ipykernel/kernelbase.py\", line 541, in execute_request\n    user_expressions, allow_stdin,\n  File \"/home/achal/.python_environments/gkeep/lib/python3.6/site-packages/tornado/gen.py\", line 209, in wrapper\n    yielded = next(result)\n  File \"/home/achal/.python_environments/gkeep/lib/python3.6/site-packages/ipykernel/ipkernel.py\", line 300, in do_execute\n    res = shell.run_cell(code, store_history=store_history, silent=silent)\n  File \"/home/achal/.python_environments/gkeep/lib/python3.6/site-packages/ipykernel/zmqshell.py\", line 536, in run_cell\n    return super(ZMQInteractiveShell, self).run_cell(*args, **kwargs)\n  File \"/home/achal/.python_environments/gkeep/lib/python3.6/site-packages/IPython/core/interactiveshell.py\", line 2858, in run_cell\n    raw_cell, store_history, silent, shell_futures)\n  File \"/home/achal/.python_environments/gkeep/lib/python3.6/site-packages/IPython/core/interactiveshell.py\", line 2886, in _run_cell\n    return runner(coro)\n  File \"/home/achal/.python_environments/gkeep/lib/python3.6/site-packages/IPython/core/async_helpers.py\", line 68, in _pseudo_sync_runner\n    coro.send(None)\n  File \"/home/achal/.python_environments/gkeep/lib/python3.6/site-packages/IPython/core/interactiveshell.py\", line 3063, in run_cell_async\n    interactivity=interactivity, compiler=compiler, result=result)\n  File \"/home/achal/.python_environments/gkeep/lib/python3.6/site-packages/IPython/core/interactiveshell.py\", line 3254, in run_ast_nodes\n    if (await self.run_code(code, result,  async_=asy)):\n  File \"/home/achal/.python_environments/gkeep/lib/python3.6/site-packages/IPython/core/interactiveshell.py\", line 3331, in run_code\n    exec(code_obj, self.user_global_ns, self.user_ns)\n  File \"<ipython-input-15-22f4da97fdbd>\", line 2, in <module>\n    add_to_taskwarrior(item)\n  File \"/home/achal/utils/gkeepapi/gkeepapi/__init__.py\", line 118, in add_to_taskwarrior\n    task = convert_to_task(node)\n  File \"/home/achal/utils/gkeepapi/gkeepapi/__init__.py\", line 77, in convert_to_task\n    logging.info(\"Task created: {}\", str(task))\nMessage: 'Task created: {}'\nArguments: (\"{'text': 'when to not eat what makes more sense than when to eat what, you want to minimize stomach upsets and ensure optimal nutrition intake', 'keep_id': '1585036900533.483632588', 'children': [], 'created': datetime.datetime(2020, 3, 24, 8, 1, 43, 837000), 'parent': None}\",)\n"
    }
   ],
   "source": [
    "for item in filtered_items:\n",
    "    add_to_taskwarrior(item)"
   ]
  },
  {
   "cell_type": "code",
   "execution_count": 33,
   "metadata": {},
   "outputs": [],
   "source": [
    "filtered_tasks = [convert_to_task(x) for x in filtered_items]"
   ]
  },
  {
   "cell_type": "code",
   "execution_count": 19,
   "metadata": {},
   "outputs": [
    {
     "output_type": "error",
     "ename": "NameError",
     "evalue": "name 'filtered_tasks' is not defined",
     "traceback": [
      "\u001b[0;31m---------------------------------------------------------------------------\u001b[0m",
      "\u001b[0;31mNameError\u001b[0m                                 Traceback (most recent call last)",
      "\u001b[0;32m<ipython-input-19-e95f00c2b438>\u001b[0m in \u001b[0;36m<module>\u001b[0;34m\u001b[0m\n\u001b[0;32m----> 1\u001b[0;31m \u001b[0mfiltered_tasks\u001b[0m\u001b[0;34m\u001b[0m\u001b[0;34m\u001b[0m\u001b[0m\n\u001b[0m",
      "\u001b[0;31mNameError\u001b[0m: name 'filtered_tasks' is not defined"
     ]
    }
   ],
   "source": [
    "filtered_tasks"
   ]
  },
  {
   "cell_type": "code",
   "execution_count": 42,
   "metadata": {},
   "outputs": [],
   "source": [
    "# filtered_tasks"
   ]
  },
  {
   "cell_type": "code",
   "execution_count": 26,
   "metadata": {},
   "outputs": [],
   "source": [
    "# for item in filtered_tasks:\n",
    "#     children = item.get('children').values()\n",
    "#     item['children'] = list(map(lambda x: {'text': x.text, 'keep_id': x.id, 'children':[], 'created': x.timestamps._created},filter(lambda x: has_attr_value(x, 'checked', False), children)))"
   ]
  },
  {
   "cell_type": "code",
   "execution_count": 27,
   "metadata": {},
   "outputs": [
    {
     "output_type": "execute_result",
     "data": {
      "text/plain": "{'text': 'Read your algorithm, read other algorithms',\n 'keep_id': '1584344571475.1329806704',\n 'children': [],\n 'created': datetime.datetime(2020, 3, 16, 7, 42, 52, 54000)}"
     },
     "metadata": {},
     "execution_count": 27
    }
   ],
   "source": [
    "filtered_tasks[0]"
   ]
  },
  {
   "cell_type": "code",
   "execution_count": 28,
   "metadata": {},
   "outputs": [
    {
     "output_type": "execute_result",
     "data": {
      "text/plain": "{'_dirty': False,\n '_created': datetime.datetime(2020, 3, 16, 7, 42, 52, 54000),\n '_deleted': None,\n '_trashed': None,\n '_updated': datetime.datetime(2020, 3, 23, 8, 20, 24, 369000),\n '_edited': None}"
     },
     "metadata": {},
     "execution_count": 28
    }
   ],
   "source": [
    "filtered_items[0].timestamps.__dict__"
   ]
  },
  {
   "cell_type": "code",
   "execution_count": 29,
   "metadata": {},
   "outputs": [
    {
     "output_type": "error",
     "ename": "IndexError",
     "evalue": "list index out of range",
     "traceback": [
      "\u001b[0;31m---------------------------------------------------------------------------\u001b[0m",
      "\u001b[0;31mIndexError\u001b[0m                                Traceback (most recent call last)",
      "\u001b[0;32m<ipython-input-29-91e29f2b5881>\u001b[0m in \u001b[0;36m<module>\u001b[0;34m\u001b[0m\n\u001b[0;32m----> 1\u001b[0;31m \u001b[0mfiltered_items\u001b[0m\u001b[0;34m[\u001b[0m\u001b[0;36m4\u001b[0m\u001b[0;34m]\u001b[0m\u001b[0;34m.\u001b[0m\u001b[0m__dict__\u001b[0m\u001b[0;34m\u001b[0m\u001b[0;34m\u001b[0m\u001b[0m\n\u001b[0m",
      "\u001b[0;31mIndexError\u001b[0m: list index out of range"
     ]
    }
   ],
   "source": [
    "filtered_items[4].__dict__"
   ]
  },
  {
   "cell_type": "code",
   "execution_count": 24,
   "metadata": {},
   "outputs": [],
   "source": [
    "# so we have the tasks!\n",
    "# now we have to exec the task add command get the task id, use that to link children!"
   ]
  },
  {
   "cell_type": "code",
   "execution_count": 25,
   "metadata": {},
   "outputs": [],
   "source": [
    "# for loop\n",
    "# add task_warrior id in dict\n",
    "# need to get that by parsing the subprocess.PIPE.etc"
   ]
  },
  {
   "cell_type": "code",
   "execution_count": 30,
   "metadata": {},
   "outputs": [
    {
     "output_type": "stream",
     "name": "stdout",
     "text": "{'children': [],\n 'created': datetime.datetime(2020, 3, 16, 7, 42, 52, 54000),\n 'keep_id': '1584344571475.1329806704',\n 'text': 'Read your algorithm, read other algorithms'}\n{'children': [],\n 'created': datetime.datetime(2020, 3, 23, 8, 21, 11, 536000),\n 'keep_id': '1584951671107.1572702742',\n 'text': 'set deadlines'}\n{'children': [],\n 'created': datetime.datetime(2020, 3, 13, 23, 13, 50, 109000),\n 'keep_id': '1584141228696.1680011852',\n 'text': 'I know what I want to do, I want to be able to ask myself what type '\n         'of work I want to do and then go ahead and get the \"next\" best task '\n         'to do!, task warrior really helps with that and this is why I want '\n         'the task warrior integration! '}\n{'children': [{'children': [],\n               'created': datetime.datetime(2020, 2, 27, 8, 13, 47, 267000),\n               'keep_id': '1582791225563.1845751236',\n               'text': 'Callbacks and review of what you wrote previously \\n'\n                       '- 3 to 5 day goals can be shown to the person\\n'\n                       '- list of tasks that were meant to be completed could '\n                       'be shown?'},\n              {'children': [],\n               'created': datetime.datetime(2020, 3, 13, 8, 0, 2, 226000),\n               'keep_id': '1584086401829.1088803441',\n               'text': 'what other things would you like to track '\n                       'statistically? I am generating data here, high quality '\n                       'data, mention your recreation, mention what you '\n                       'studied, etc mention these few things in the '\n                       'description box. in bath section, '},\n              {'children': [],\n               'created': datetime.datetime(2020, 3, 22, 3, 3, 10, 518000),\n               'keep_id': '1584846189938.436179330',\n               'text': 'affirmation should be something that I should chant '\n                       'while meditation, extract that out from sheets and '\n                       'send it as a notification/email'},\n              {'children': [],\n               'created': datetime.datetime(2020, 3, 22, 3, 3, 50, 361000),\n               'keep_id': '1584846229918.1704706634',\n               'text': 'clean mantras'}],\n 'created': datetime.datetime(2020, 3, 7, 1, 47, 42, 261000),\n 'keep_id': '170b2abcb55.a64cca6983f69347',\n 'text': 'Update google form for reflections'}\n"
    }
   ],
   "source": [
    "for task in filtered_tasks:\n",
    "    print(task)"
   ]
  },
  {
   "cell_type": "code",
   "execution_count": 35,
   "metadata": {},
   "outputs": [],
   "source": [
    "# keep._keep_api.changes(keep._keep_version)\n",
    "keep._keep_api.changes(keep._keep_version).get('nodes')"
   ]
  },
  {
   "cell_type": "code",
   "execution_count": 33,
   "metadata": {},
   "outputs": [],
   "source": [
    "keep.sync(True)"
   ]
  },
  {
   "cell_type": "code",
   "execution_count": 56,
   "metadata": {},
   "outputs": [],
   "source": [
    "# "
   ]
  },
  {
   "cell_type": "code",
   "execution_count": 69,
   "metadata": {},
   "outputs": [],
   "source": [
    "# now I need to perform incremental updates on my taskwarrior entries\n",
    "# so for that I need to be able to extract task id from annotations!\n",
    "\n",
    "# the incremental updates are limited to checked/unchecked and/or adding children, because they lead to changes in parents, however will it be tricky to get parents and children updates when we need the task id?\n",
    "\n",
    "# i dont know this right now because of obvious reasons\n",
    "# firstly i dont know in what form the incremental updates arrive \n",
    "# if they are of the form, a child has been added, heres the new child, \n",
    "# dont have to use a dictionary for efficiency right now as we have enough compute power\n",
    "\n",
    "\n",
    "\n",
    "\n",
    ""
   ]
  },
  {
   "cell_type": "code",
   "execution_count": null,
   "metadata": {},
   "outputs": [],
   "source": [
    "def perform_incremental_update(nodes, current):\n",
    "    # nodes are the latest updates that have been fetched from the api\n",
    "    # current is the current set of filtered tasks\n",
    "    # \n",
    "    proc = subprocess.Popen(['task','aws' ], stderr=subprocess.PIPE, stdout=subprocess.PIPE, stdin=subprocess.PIPE)\n",
    "    stdout_value = proc.communicate()\n",
    "\n",
    "    # extract task id from stdout output \n",
    "    string = stdout_value[0].decode('ascii')\n",
    "    task_id = re.findall('\\d+', string)[0]\n",
    "    # an alternate way would be to split the lines\n",
    "    # task_details = string.split('\\n')[3]"
   ]
  },
  {
   "cell_type": "code",
   "execution_count": 110,
   "metadata": {},
   "outputs": [],
   "source": [
    "def get_task_id(keep_id):\n",
    "    proc = subprocess.Popen(['task',keep_id ], stderr=subprocess.PIPE, stdout=subprocess.PIPE, stdin=subprocess.PIPE)\n",
    "    stdout_value = proc.communicate()\n",
    "\n",
    "    # extract task id from stdout output \n",
    "    string = stdout_value[0].decode('ascii')\n",
    "    return re.findall('\\d+', string)[0] if string else None\n",
    "    # an alternate way would be to split the lines\n",
    "    # task_details = string.split('\\n')[3]"
   ]
  },
  {
   "cell_type": "code",
   "execution_count": 101,
   "metadata": {},
   "outputs": [],
   "source": [
    "proc = subprocess.Popen(['task','please' ], stderr=subprocess.PIPE, stdout=subprocess.PIPE, stdin=subprocess.PIPE)\n",
    "stdout_value = proc.communicate()\n",
    "\n",
    "# extract task id from stdout output \n",
    "string = stdout_value[0].decode('ascii')\n",
    "if string:\n",
    "    task_id = re.findall('\\d+', string)[0]\n",
    "else:\n",
    "    task_id = None\n",
    "# an alternate way would be to split the lines\n",
    "# task_details = string.split('\\n')[3]"
   ]
  },
  {
   "cell_type": "code",
   "execution_count": 113,
   "metadata": {},
   "outputs": [],
   "source": [
    "# ASSERT that I will not be changing parents\n",
    "# only adding entries or subentries\n",
    "# so now hook onto the create_list, update_list\n",
    "# and also hook on the the delete_list\n",
    "# because I dont care about anything else"
   ]
  },
  {
   "cell_type": "code",
   "execution_count": 25,
   "metadata": {},
   "outputs": [],
   "source": [
    "# proc = subprocess.Popen(['task', 'add', task['text'] ], stderr=subprocess.PIPE, stdout=subprocess.PIPE)\n",
    "# stdout_value = proc.communicate()\n",
    "\n",
    "# extract taskwarrior id from stdout\n",
    "# string = stdout_value[0].decode('ascii')\n",
    "# task_id = re.findall(r'\\d+', string )[0]\n",
    "# task['task_id'] = task_id\n",
    "\n",
    "proc = subprocess.Popen(['task', '23', 'info'],stderr=subprocess.PIPE, stdout=subprocess.PIPE)\n",
    "stdout_value = proc.communicate()"
   ]
  },
  {
   "cell_type": "code",
   "execution_count": 26,
   "metadata": {},
   "outputs": [
    {
     "output_type": "execute_result",
     "data": {
      "text/plain": "(b'\\nName          Value\\n------------- ------------------------------------\\nID            23\\nDescription   123\\nStatus        Pending\\nEntered       2020-03-24 11:22:31 (10min)\\nLast modified 2020-03-24 11:22:31 (10min)\\nVirtual tags  PENDING READY UNBLOCKED LATEST\\nUUID          af3f1499-d54d-44bc-a7ed-83e87ac67271\\nUrgency          0\\n\\n',\n b'')"
     },
     "metadata": {},
     "execution_count": 26
    }
   ],
   "source": [
    "stdout_value"
   ]
  },
  {
   "cell_type": "code",
   "execution_count": 71,
   "metadata": {},
   "outputs": [],
   "source": []
  },
  {
   "cell_type": "code",
   "execution_count": 120,
   "metadata": {},
   "outputs": [
    {
     "output_type": "execute_result",
     "data": {
      "text/plain": "'af3f1499'"
     },
     "metadata": {},
     "execution_count": 120
    }
   ],
   "source": [
    "string = stdout_value[0].decode('ascii')\n",
    "regex = 'UUID\\s*'\n",
    "re.split(regex, list(filter(lambda x: re.findall(regex, x), string.split('\\n')))[0])[1].split('-')[0]"
   ]
  },
  {
   "cell_type": "code",
   "execution_count": 106,
   "metadata": {},
   "outputs": [
    {
     "output_type": "execute_result",
     "data": {
      "text/plain": "['', 'af3f1499-d54d-44bc-a7ed-83e87ac67271']"
     },
     "metadata": {},
     "execution_count": 106
    }
   ],
   "source": [
    "re.split(regex, a)"
   ]
  },
  {
   "cell_type": "code",
   "execution_count": null,
   "metadata": {},
   "outputs": [],
   "source": []
  }
 ]
}